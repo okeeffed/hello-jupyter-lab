{
 "cells": [
  {
   "cell_type": "code",
   "execution_count": 1,
   "source": [
    "# Load in the required dotenv vars\n",
    "import os\n",
    "from os.path import join, dirname, abspath\n",
    "from dotenv import load_dotenv\n",
    "\n",
    "dotenv_path = join(dirname(abspath(\"__file__\")), '../.env')\n",
    "load_dotenv(dotenv_path)\n",
    "\n",
    "PARAPHRASE_API_KEY = os.environ.get(\"PARAPHRASE_API_KEY\")"
   ],
   "outputs": [],
   "metadata": {}
  },
  {
   "cell_type": "code",
   "execution_count": 2,
   "source": [
    "import requests\n",
    "\n",
    "url = \"https://api.promptapi.com/paraphraser\"\n",
    "body = \"Use the Pillow image library to add text and icons layers to an image programmatically.\"\n",
    "\n",
    "payload = body.encode(\"utf-8\")\n",
    "headers= {\n",
    "  \"apikey\": PARAPHRASE_API_KEY\n",
    "}\n",
    "\n",
    "response = requests.request(\"POST\", url, headers=headers, data = payload)\n",
    "\n",
    "status_code = response.status_code\n",
    "result = response.text\n",
    "print(result)"
   ],
   "outputs": [
    {
     "output_type": "stream",
     "name": "stdout",
     "text": [
      "{\n",
      "    \"original\": \"Use the Pillow image library to add text and icons layers to an image programmatically.\",\n",
      "    \"paraphrased\": \"Use the pillow image library to programmatically add text and icon layers to the image.\"\n",
      "}\n",
      "\n"
     ]
    }
   ],
   "metadata": {}
  },
  {
   "cell_type": "code",
   "execution_count": null,
   "source": [],
   "outputs": [],
   "metadata": {}
  }
 ],
 "metadata": {
  "orig_nbformat": 4,
  "language_info": {
   "name": "python"
  }
 },
 "nbformat": 4,
 "nbformat_minor": 2
}