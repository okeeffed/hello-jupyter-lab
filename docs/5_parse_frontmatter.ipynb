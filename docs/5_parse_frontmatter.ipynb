{
 "cells": [
  {
   "cell_type": "code",
   "execution_count": 8,
   "source": [
    "import frontmatter\n",
    "from os.path import join, dirname, abspath\n",
    "\n",
    "# Read the file\n",
    "mdx_filepath = join(dirname(abspath(\"__file__\")), '../frontmatter-example.mdx')\n",
    "print(mdx_filepath)\n",
    "\n",
    "\n",
    "post = frontmatter.load(mdx_filepath)\n",
    "print(post.keys())\n",
    "print(post['title'])\n",
    "print(post['date'])\n"
   ],
   "outputs": [
    {
     "output_type": "stream",
     "name": "stdout",
     "text": [
      "/Users/dennisokeeffe/code/projects/hello-jupyterlab/docs/../frontmatter-example.mdx\n",
      "dict_keys(['title', 'date'])\n",
      "Henlo, FrontMatter\n",
      "2016-12-16\n"
     ]
    }
   ],
   "metadata": {}
  },
  {
   "cell_type": "code",
   "execution_count": null,
   "source": [],
   "outputs": [],
   "metadata": {}
  }
 ],
 "metadata": {
  "kernelspec": {
   "display_name": "Python 3 (ipykernel)",
   "language": "python",
   "name": "python3"
  },
  "language_info": {
   "codemirror_mode": {
    "name": "ipython",
    "version": 3
   },
   "file_extension": ".py",
   "mimetype": "text/x-python",
   "name": "python",
   "nbconvert_exporter": "python",
   "pygments_lexer": "ipython3",
   "version": "3.9.6"
  }
 },
 "nbformat": 4,
 "nbformat_minor": 5
}