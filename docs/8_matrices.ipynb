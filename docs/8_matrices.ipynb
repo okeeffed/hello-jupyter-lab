{
 "cells": [
  {
   "cell_type": "code",
   "execution_count": null,
   "source": [
    "import numpy as np\n",
    "\n",
    "# Dot product\n",
    "x = np.array([[1, 2], [3, 4]])\n",
    "y = x.copy()\n",
    "m = np.asmatrix(x)\n",
    "n = np.asmatrix(y)\n",
    "x[0, 0] = 5\n",
    "\n",
    "print(m)\n",
    "print(n)\n",
    "\n",
    "print(m * n)\n"
   ],
   "outputs": [],
   "metadata": {}
  }
 ],
 "metadata": {
  "orig_nbformat": 4,
  "language_info": {
   "name": "python"
  }
 },
 "nbformat": 4,
 "nbformat_minor": 2
}