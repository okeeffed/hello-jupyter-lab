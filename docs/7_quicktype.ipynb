{
 "cells": [
  {
   "cell_type": "code",
   "execution_count": 2,
   "source": [
    "# To use this code, make sure you\n",
    "#\n",
    "#     import json\n",
    "#\n",
    "# and then, to convert JSON from a string, do\n",
    "#\n",
    "#     result = coordinate_from_dict(json.loads(json_string))\n",
    "\n",
    "from typing import Optional, Any, TypeVar, Type, cast\n",
    "\n",
    "\n",
    "T = TypeVar(\"T\")\n",
    "\n",
    "\n",
    "def from_float(x: Any) -> float:\n",
    "    assert isinstance(x, (float, int)) and not isinstance(x, bool)\n",
    "    return float(x)\n",
    "\n",
    "\n",
    "def from_none(x: Any) -> Any:\n",
    "    assert x is None\n",
    "    return x\n",
    "\n",
    "\n",
    "def from_union(fs, x):\n",
    "    for f in fs:\n",
    "        try:\n",
    "            return f(x)\n",
    "        except:\n",
    "            pass\n",
    "    assert False\n",
    "\n",
    "\n",
    "def to_float(x: Any) -> float:\n",
    "    assert isinstance(x, float)\n",
    "    return x\n",
    "\n",
    "\n",
    "def to_class(c: Type[T], x: Any) -> dict:\n",
    "    assert isinstance(x, c)\n",
    "    return cast(Any, x).to_dict()\n",
    "\n",
    "\n",
    "class Coordinate:\n",
    "    \"\"\"A geographical coordinate\"\"\"\n",
    "    latitude: Optional[float]\n",
    "    longitude: Optional[float]\n",
    "\n",
    "    def __init__(self, latitude: Optional[float], longitude: Optional[float]) -> None:\n",
    "        self.latitude = latitude\n",
    "        self.longitude = longitude\n",
    "\n",
    "    @staticmethod\n",
    "    def from_dict(obj: Any) -> 'Coordinate':\n",
    "        assert isinstance(obj, dict)\n",
    "        latitude = from_union([from_float, from_none], obj.get(\"latitude\"))\n",
    "        longitude = from_union([from_float, from_none], obj.get(\"longitude\"))\n",
    "        return Coordinate(latitude, longitude)\n",
    "\n",
    "    def to_dict(self) -> dict:\n",
    "        result: dict = {}\n",
    "        result[\"latitude\"] = from_union([to_float, from_none], self.latitude)\n",
    "        result[\"longitude\"] = from_union([to_float, from_none], self.longitude)\n",
    "        return result\n",
    "\n",
    "\n",
    "def coordinate_from_dict(s: Any) -> Coordinate:\n",
    "    return Coordinate.from_dict(s)\n",
    "\n",
    "\n",
    "def coordinate_to_dict(x: Coordinate) -> Any:\n",
    "    return to_class(Coordinate, x)\n"
   ],
   "outputs": [],
   "metadata": {}
  },
  {
   "cell_type": "code",
   "execution_count": 6,
   "source": [
    "res = Coordinate.from_dict({\"latitude\": 123, \"longitude\": 456})\n",
    "print(res.latitude)"
   ],
   "outputs": [
    {
     "output_type": "stream",
     "name": "stdout",
     "text": [
      "123.0\n"
     ]
    }
   ],
   "metadata": {}
  },
  {
   "cell_type": "markdown",
   "source": [],
   "metadata": {}
  },
  {
   "cell_type": "code",
   "execution_count": 9,
   "source": [
    "print(res.to_dict())\n",
    "a = res.to_dict()\n",
    "print(a['latitude'])"
   ],
   "outputs": [
    {
     "output_type": "stream",
     "name": "stdout",
     "text": [
      "{'latitude': 123.0, 'longitude': 456.0}\n",
      "123.0\n"
     ]
    }
   ],
   "metadata": {}
  },
  {
   "cell_type": "code",
   "execution_count": null,
   "source": [],
   "outputs": [],
   "metadata": {}
  }
 ],
 "metadata": {
  "orig_nbformat": 4,
  "language_info": {
   "name": "python"
  }
 },
 "nbformat": 4,
 "nbformat_minor": 2
}