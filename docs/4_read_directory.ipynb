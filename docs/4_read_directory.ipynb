{
 "cells": [
  {
   "cell_type": "code",
   "execution_count": 1,
   "source": [
    "# Using a glob\n",
    "import glob\n",
    "from os.path import join, dirname, abspath\n",
    "\n",
    "icons_dir = join(dirname(abspath(\"__file__\")), '../icons')\n",
    "print(glob.glob(f\"{icons_dir}/*\"))"
   ],
   "outputs": [
    {
     "output_type": "stream",
     "name": "stdout",
     "text": [
      "['/Users/dennisokeeffe/code/projects/hello-jupyterlab/docs/../icons/git.png', '/Users/dennisokeeffe/code/projects/hello-jupyterlab/docs/../icons/python.png', '/Users/dennisokeeffe/code/projects/hello-jupyterlab/docs/../icons/aws.png', '/Users/dennisokeeffe/code/projects/hello-jupyterlab/docs/../icons/dok.png']\n"
     ]
    }
   ],
   "metadata": {}
  },
  {
   "cell_type": "code",
   "execution_count": 8,
   "source": [
    "from PIL import Image"
   ],
   "outputs": [
    {
     "output_type": "stream",
     "name": "stdout",
     "text": [
      "['/Users/dennisokeeffe/code/projects/hello-jupyterlab/docs/../icons/git.png', '/Users/dennisokeeffe/code/projects/hello-jupyterlab/docs/../icons/python.png', '/Users/dennisokeeffe/code/projects/hello-jupyterlab/docs/../icons/aws.png', '/Users/dennisokeeffe/code/projects/hello-jupyterlab/docs/../icons/dok.png']\n"
     ]
    }
   ],
   "metadata": {}
  },
  {
   "cell_type": "code",
   "execution_count": null,
   "source": [],
   "outputs": [],
   "metadata": {}
  }
 ],
 "metadata": {
  "kernelspec": {
   "display_name": "Python 3 (ipykernel)",
   "language": "python",
   "name": "python3"
  },
  "language_info": {
   "codemirror_mode": {
    "name": "ipython",
    "version": 3
   },
   "file_extension": ".py",
   "mimetype": "text/x-python",
   "name": "python",
   "nbconvert_exporter": "python",
   "pygments_lexer": "ipython3",
   "version": "3.9.6"
  }
 },
 "nbformat": 4,
 "nbformat_minor": 5
}